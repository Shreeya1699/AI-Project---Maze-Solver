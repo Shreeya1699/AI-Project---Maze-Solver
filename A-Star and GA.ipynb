{
 "cells": [
  {
   "cell_type": "code",
   "execution_count": 43,
   "metadata": {},
   "outputs": [],
   "source": [
    "import numpy as np\n",
    "import random as rand\n",
    "import matplotlib.pyplot as plt\n",
    "import seaborn as sns\n",
    "import math\n",
    "import queue as Q\n",
    "from matplotlib.colors import ListedColormap\n",
    "import time\n",
    "import pprint as pp\n",
    "import pandas as pd\n",
    "from operator import itemgetter"
   ]
  },
  {
   "cell_type": "code",
   "execution_count": 44,
   "metadata": {},
   "outputs": [
    {
     "name": "stdout",
     "output_type": "stream",
     "text": [
      "[[0 1 0 0 0 0 0 0 0 0 0 0 0 0 0]\n",
      " [0 1 1 1 1 1 1 1 1 1 1 1 1 1 0]\n",
      " [0 0 1 0 0 0 0 0 0 0 0 0 0 0 0]\n",
      " [0 1 1 1 1 1 1 1 1 1 1 1 0 1 0]\n",
      " [0 0 0 0 0 0 0 0 0 0 0 1 1 1 0]\n",
      " [0 1 1 1 1 1 1 1 1 1 1 1 0 1 0]\n",
      " [0 1 0 1 0 0 0 0 0 0 0 0 0 1 0]\n",
      " [0 1 0 1 1 1 1 1 0 1 1 1 1 1 0]\n",
      " [0 0 0 1 0 0 0 1 0 0 0 1 0 1 0]\n",
      " [0 1 1 1 0 1 1 1 0 1 0 1 0 1 0]\n",
      " [0 1 0 0 0 1 0 1 0 1 0 1 0 1 0]\n",
      " [0 1 0 1 1 1 0 1 0 1 0 0 0 0 0]\n",
      " [0 1 0 1 0 0 0 1 0 1 0 1 1 1 0]\n",
      " [0 1 1 1 0 1 1 1 1 1 1 1 0 1 0]\n",
      " [0 0 0 0 0 0 0 0 0 0 0 0 0 1 0]]\n"
     ]
    }
   ],
   "source": [
    "from PIL import Image\n",
    "import numpy as np\n",
    "\n",
    "# Open the maze image and make greyscale, and get its dimensions\n",
    "im = Image.open('data/small.png').convert('L')\n",
    "w, h = im.size\n",
    "\n",
    "# Ensure all black pixels are 0 and all white pixels are 1\n",
    "binary = im.point(lambda p: p > 128 and 1)\n",
    "\n",
    "# Resize to half its height and width so we can fit on Stack Overflow, get new dimensions\n",
    "# binary = binary.resize((w//2,h//2),Image.NEAREST)\n",
    "w, h = binary.size\n",
    "\n",
    "# Convert to Numpy array - because that's how images are best stored and processed in Python\n",
    "mat = np.array(binary)\n",
    "\n",
    "# Print that puppy out \n",
    "# for r in range(h):\n",
    "#     for c in range(w):\n",
    "#         print(nim[r,c],end='')\n",
    "#     print()\n",
    "print(mat)"
   ]
  },
  {
   "cell_type": "code",
   "execution_count": 45,
   "metadata": {},
   "outputs": [],
   "source": [
    "def check_child_validity(maze,vertex,visited):\n",
    "    \n",
    "    dim = maze.shape[0] \n",
    "\n",
    "    # If dimensions are in the range\n",
    "    if vertex[0]==-1 or vertex[1]==-1 or vertex[0]==dim or vertex[1]==dim:\n",
    "        return False\n",
    "    # If node is closed\n",
    "    elif maze[vertex[0],vertex[1]]==0 or vertex in visited:\n",
    "        return False\n",
    "    else:\n",
    "        return True # Valid child"
   ]
  },
  {
   "cell_type": "code",
   "execution_count": 7,
   "metadata": {},
   "outputs": [],
   "source": [
    "def create_child_nodes(maze,visited,x,y):\n",
    "  \n",
    "  children = []\n",
    "  \n",
    "  node1 = (x+1,y)\n",
    "  if(check_child_validity(maze,node1, visited)):\n",
    "    children.append(node1)\n",
    "                \n",
    "  node2 = (x,y+1)\n",
    "  if(check_child_validity(maze,node2, visited)):\n",
    "    children.append(node2)\n",
    "\n",
    "  node3 = (x-1,y)\n",
    "  if(check_child_validity(maze,node3, visited)):\n",
    "    children.append(node3)\n",
    "\n",
    "  node4 = (x,y-1)\n",
    "  if(check_child_validity(maze,node4, visited)):\n",
    "    children.append(node4)\n",
    "  \n",
    "  return children"
   ]
  },
  {
   "cell_type": "code",
   "execution_count": 8,
   "metadata": {},
   "outputs": [],
   "source": [
    "def A_star_heuristic(maze, h, goal, heuristic):\n",
    "    \n",
    "    dim = maze.shape[0]\n",
    "    \n",
    "    for i in range(dim):\n",
    "        for j in range(dim): \n",
    "            if(heuristic == \"manhattan\"):\n",
    "                h[i][j] = ( abs(goal[0]-i) + abs(goal[1]-j) )\n",
    "\n",
    "            if(heuristic == \"euclidean\"):\n",
    "                h[i][j] = math.sqrt( (goal[0] - i)**2 + (goal[1]-j)**2 )"
   ]
  },
  {
   "cell_type": "code",
   "execution_count": 9,
   "metadata": {},
   "outputs": [],
   "source": [
    "def A_star(maze, start, goal, heuristic):\n",
    "    \n",
    "    dim = goal[0] + 1\n",
    "    h = np.zeros((dim, dim))\n",
    "    g = np.zeros((dim,dim))\n",
    "    f = np.zeros((dim,dim))\n",
    "    \n",
    "    g[start] = 0\n",
    "    A_star_heuristic( maze, h, goal, heuristic)\n",
    "    f = g + h \n",
    "    \n",
    "    visited = []\n",
    "    prev_list = {} \n",
    "    \n",
    "    count_of_nodes = 0\n",
    "    max_fringe_size = 0\n",
    "    \n",
    "    fringe = Q.PriorityQueue()\n",
    "    fringe.put((f[start], start))\n",
    "    \n",
    "    while not (fringe.empty()):\n",
    "        \n",
    "\n",
    "        vertex = fringe.get()[1]\n",
    "        count_of_nodes+=1\n",
    "        max_fringe_size = max( max_fringe_size, fringe.qsize() )\n",
    "        visited.append(vertex)\n",
    "        \n",
    "        if vertex == goal:\n",
    "            return 1, prev_list, count_of_nodes, max_fringe_size, visited\n",
    "        \n",
    "        i = vertex[0]\n",
    "        j = vertex[1] \n",
    "\n",
    "        # Generating and adding child nodes in fringe \n",
    "        child = create_child_nodes(maze,visited,i,j)\n",
    "        if child:\n",
    "            for c in child:\n",
    "                prev_list[c] = vertex\n",
    "                visited.append(c)\n",
    "                g[c] = g[vertex] + 1\n",
    "                f[c] = g[c] + h[c]\n",
    "                fringe.put((f[c], c))\n",
    "    \n",
    "\n",
    "    return 0, prev_list, count_of_nodes, max_fringe_size, visited  # No path found "
   ]
  },
  {
   "cell_type": "code",
   "execution_count": 10,
   "metadata": {},
   "outputs": [],
   "source": [
    "def display_path(maze_temp, prev_list, start, goal):\n",
    "  \n",
    "    prev_node = goal\n",
    "    path = [prev_node]\n",
    "    maze_temp[prev_node] = 25\n",
    "    \n",
    "    # Backtracks from last node using prev_list\n",
    "    if bool(prev_list):\n",
    "      while(prev_list[prev_node] != start):\n",
    "        current_node = prev_node\n",
    "        prev_node = prev_list[(current_node)]\n",
    "        path.append(prev_node)\n",
    "        maze_temp[prev_node] = 50\n",
    "        \n",
    "      path.append(prev_list[prev_node])\n",
    "      path.reverse()\n",
    "      maze_temp[prev_list[prev_node]] = 25\n",
    "      \n",
    "      path_length = len(path)\n",
    "      \n",
    "      # Plotting the path in the maze\n",
    "      plt.figure(figsize=(15,15))\n",
    "      sns.heatmap(maze_temp, cmap=ListedColormap(['black', 'green', 'crimson', 'papayawhip']), linewidths=.5, square = True, cbar=False, xticklabels=False, yticklabels=False)\n",
    "      plt.show()\n",
    "      \n",
    "      return path_length"
   ]
  },
  {
   "cell_type": "code",
   "execution_count": 11,
   "metadata": {},
   "outputs": [],
   "source": [
    "def path_length(goal, prev_list, start):\n",
    "    \n",
    "    prev_node = goal\n",
    "    path = [prev_node]\n",
    "    path_len = 0\n",
    "    \n",
    "    # Backtracks from last node using prev_list\n",
    "    if bool(prev_list):\n",
    "        while(prev_node in prev_list.keys() and prev_list[prev_node] != start):\n",
    "            current_node = prev_node\n",
    "            prev_node = prev_list[(current_node)]\n",
    "            path.append(prev_node)\n",
    "        \n",
    "        path.append(prev_list[prev_node])\n",
    "        path.reverse()\n",
    "        path_len = len(path)\n",
    "    \n",
    "    return path_len, path"
   ]
  },
  {
   "cell_type": "code",
   "execution_count": 16,
   "metadata": {},
   "outputs": [],
   "source": [
    "def solve_maze():\n",
    "  \n",
    "    path_length = 0\n",
    "    \n",
    "    ## LIST of fators ##\n",
    "    algo_list = [ \"A_Mahnattan\"]\n",
    "    factor_list = [\"path_length\", \"time\", \"nodes_explored\", \"max_fringe_size\"] \n",
    "    df = pd.DataFrame(columns= factor_list, index=algo_list)\n",
    "\n",
    "    maze = mat\n",
    "  \n",
    "    ##  A* - MANHATTAN  ##\n",
    "    print(\" \\n ---------A* -Manhattan---------\")\n",
    "    start_time = time.time()\n",
    "    is_goal_reached, prev_list, count_of_nodes, max_fringe_size, visited = A_star(maze, start, goal, \"manhattan\")\n",
    "    current_time = round(time.time() - start_time, 4)\n",
    "    \n",
    "    if(is_goal_reached):\n",
    "        print(\"Goal Reached\")\n",
    "        maze_temp = maze*100\n",
    "        path_length = display_path(maze_temp,prev_list,start,goal)\n",
    "    else:\n",
    "        print(\"No path found\")\n",
    "\n",
    "    df.loc[\"A_Mahnattan\"][\"time\"] = current_time\n",
    "    df.loc[\"A_Mahnattan\"][\"nodes_explored\"] = count_of_nodes\n",
    "    df.loc[\"A_Mahnattan\"][\"path_length\"] = path_length\n",
    "    df.loc[\"A_Mahnattan\"][\"max_fringe_size\"] = max_fringe_size\n",
    "  \n",
    "    \n",
    "    print(df)"
   ]
  },
  {
   "cell_type": "code",
   "execution_count": 17,
   "metadata": {},
   "outputs": [],
   "source": [
    "def visualise_maze(maze):\n",
    "#   plt.figure(figsize=(15,15))\n",
    "  ax = sns.heatmap(maze, linewidths=.5,square = True, cbar=False, xticklabels=False, yticklabels=False)\n",
    "  plt.show()"
   ]
  },
  {
   "cell_type": "code",
   "execution_count": 18,
   "metadata": {},
   "outputs": [],
   "source": [
    "p = 0.2\n",
    "start = (0,1)\n",
    "goal = (14,13)"
   ]
  },
  {
   "cell_type": "code",
   "execution_count": 46,
   "metadata": {},
   "outputs": [
    {
     "name": "stdout",
     "output_type": "stream",
     "text": [
      " \n",
      " ---------A* -Manhattan---------\n",
      "Goal Reached\n"
     ]
    },
    {
     "data": {
      "image/png": "[encoded data removed]",
      "text/plain": [
       "<Figure size 1080x1080 with 1 Axes>"
      ]
     },
     "metadata": {},
     "output_type": "display_data"
    },
    {
     "name": "stdout",
     "output_type": "stream",
     "text": [
      "            path_length   time nodes_explored max_fringe_size\n",
      "A_Mahnattan          45  0.004             80               5\n"
     ]
    }
   ],
   "source": [
    "solve_maze()\n"
   ]
  },
  {
   "cell_type": "code",
   "execution_count": 77,
   "metadata": {},
   "outputs": [],
   "source": [
    "\n",
    "# Generate initial population:\n",
    "def generate_initial_population(population_size):\n",
    "    \n",
    "    population = []\n",
    "    for i in range(population_size):\n",
    "        maze = mat\n",
    "        population.append(maze)\n",
    "    return population"
   ]
  },
  {
   "cell_type": "code",
   "execution_count": 78,
   "metadata": {},
   "outputs": [],
   "source": [
    "def fitting_function(population_maze):\n",
    "  \n",
    "      goal = (dim-1, dim-1)\n",
    "      start = (0,0)\n",
    "      population_fitness = []\n",
    "      \n",
    "      for i in range(len(population_maze)):\n",
    "        \n",
    "        maze = population_maze[i]\n",
    "        is_goal_reached, prev_list, count_of_nodes, max_fringe_size, visited = A_star(maze, start, goal, \"manhattan\")\n",
    "        \n",
    "        if(is_goal_reached):\n",
    "          \n",
    "          shortest_path_length, path = path_length(goal, prev_list, start)\n",
    "          fitness = shortest_path_length   # Here fitting function depends on only one parameter\n",
    "        else:\n",
    "          fitness = 0\n",
    "          \n",
    "        population_fitness.append((maze,fitness))\n",
    "      \n",
    "      return population_fitness"
   ]
  },
  {
   "cell_type": "code",
   "execution_count": 79,
   "metadata": {},
   "outputs": [],
   "source": [
    "def single_point_crossover(maze_1, maze_2, alpha):\n",
    "\n",
    "  dim = maze_1.shape[0]\n",
    "  child1_maze = np.zeros((dim, dim))\n",
    "  child2_maze = np.zeros((dim, dim))\n",
    "  \n",
    "  break_point = math.ceil(alpha * dim) # To determine the column value for breakpoint\n",
    "  \n",
    "  child1_maze[0:dim, 0:break_point] = maze_1[0:dim, 0:break_point]\n",
    "  child1_maze[0:dim, break_point:dim] = maze_2[0:dim, break_point:dim]\n",
    "  \n",
    "  break_point = dim - break_point    #To increase the proportion of the fitter parent\n",
    "  child2_maze[0:dim, 0:break_point] = maze_2[0:dim, 0:break_point]\n",
    "  child2_maze[0:dim, break_point:dim] = maze_1[0:dim, break_point:dim]\n",
    "  \n",
    "  return child1_maze, child2_maze"
   ]
  },
  {
   "cell_type": "code",
   "execution_count": 80,
   "metadata": {},
   "outputs": [],
   "source": [
    "def two_point_crossover(maze_1, maze_2, alpha_1, alpha_2):\n",
    "\n",
    "  dim = maze_1.shape[0]\n",
    "  child1_maze = np.zeros((dim, dim))\n",
    "  child2_maze = np.zeros((dim, dim))\n",
    "  \n",
    "  break_point_1 = math.ceil(alpha_1 * dim)\n",
    "  break_point_2 = math.ceil(alpha_2 * dim)\n",
    "  \n",
    "  \n",
    "  child1_maze[0:dim, 0:break_point_1] = maze_1[0:dim, 0:break_point_1]\n",
    "  child1_maze[0:dim, break_point_1:break_point_2] = maze_2[0:dim, break_point_1:break_point_2]\n",
    "  child1_maze[0:dim, break_point_2:dim] = maze_1[0:dim, break_point_2:dim]\n",
    "  \n",
    "  child2_maze[0:dim, 0:break_point_1] = maze_2[0:dim, 0:break_point_1]\n",
    "  child2_maze[0:dim, break_point_1:break_point_2] = maze_1[0:dim, break_point_1:break_point_2]\n",
    "  child2_maze[0:dim, break_point_2:dim] = maze_2[0:dim, break_point_2:dim]\n",
    "  \n",
    "  return child1_maze, child2_maze"
   ]
  },
  {
   "cell_type": "code",
   "execution_count": 81,
   "metadata": {},
   "outputs": [],
   "source": [
    "def uniform_crossover(maze_1,maze_2,alpha):\n",
    "    \n",
    "    dim = maze_1.shape[0]\n",
    "    child1_maze = np.zeros((dim, dim))\n",
    "    child2_maze = np.zeros((dim, dim))\n",
    "    \n",
    "    for i in range(dim):\n",
    "        ra = rand.random()\n",
    "        if ra<=alpha :   # This more gives probability to fitter parent\n",
    "            child1_maze[0:dim,i] = maze_1[0:dim,i]\n",
    "            child2_maze[0:dim,i] = maze_2[0:dim,i]\n",
    "        else:\n",
    "            child1_maze[0:dim,i] = maze_2[0:dim,i]\n",
    "            child2_maze[0:dim,i] = maze_1[0:dim,i]\n",
    "    \n",
    "    return child1_maze, child2_maze"
   ]
  },
  {
   "cell_type": "code",
   "execution_count": 82,
   "metadata": {},
   "outputs": [],
   "source": [
    "def select_parents(population, num_parents):\n",
    "\n",
    "    sorted(population, key = itemgetter(1))\n",
    "    n = len(population)\n",
    "    sum = 1*(1.1**(n)-1)/0.1\n",
    "    \n",
    "    cdf = []\n",
    "    num = 0\n",
    "    for i in range(n):\n",
    "        num += 1.1**i\n",
    "        cdf.append(num/sum)\n",
    "    \n",
    "    selected_parents_ind = []\n",
    "    \n",
    "    for k in range(num_parents):\n",
    "        while True:  \n",
    "            ra = rand.random()\n",
    "            i = 0\n",
    "            while(ra>cdf[i]):\n",
    "                i += 1\n",
    "            if i not in selected_parents_ind:\n",
    "                selected_parents_ind.append(i)\n",
    "                break\n",
    "    selected_parents_ind.sort()\n",
    "    \n",
    "    selected_parents = []\n",
    "    for i in selected_parents_ind:\n",
    "      selected_parents.append(population[i])\n",
    "\n",
    "    return selected_parents"
   ]
  },
  {
   "cell_type": "code",
   "execution_count": 83,
   "metadata": {},
   "outputs": [],
   "source": [
    "def generate_pairs(num_children, selected_parents):\n",
    "\n",
    "    num_parents = 20\n",
    "    \n",
    "    a = []\n",
    "    \n",
    "    for i in range(num_parents):\n",
    "        a.append(0)\n",
    "\n",
    "    selected_parents = sorted(selected_parents, key = itemgetter(1))\n",
    "   \n",
    "    n = len(selected_parents)\n",
    "    sum = 1*(1.1**(n)-1)/0.1\n",
    "    \n",
    "    cdf = []\n",
    "    num = 0\n",
    "    for i in range(n):\n",
    "        num += 1.1**i\n",
    "        cdf.append(num/sum)\n",
    "    \n",
    "\n",
    "    for k in range(num_children):\n",
    "        ra = rand.random()\n",
    "        i = 0\n",
    "        while(ra>cdf[i]):\n",
    "            i += 1\n",
    "        a[i] += 1\n",
    "\n",
    "    parents = []\n",
    "\n",
    "    for i in range(len(a)):\n",
    "        while a[i] > 0:\n",
    "            parents.append(i)\n",
    "            a[i] -= 1\n",
    "\n",
    "    pairs = []\n",
    "    while parents:\n",
    "        i = parents.pop()\n",
    "        for iter in range(len(parents)*5):\n",
    "            j = parents[int(rand.uniform(0,len(parents)))]\n",
    "            if j != i:\n",
    "                parents.remove(j)\n",
    "                break\n",
    "        if i == j:\n",
    "          parents.remove(j)\n",
    "        pairs.append((i,j))\n",
    "    \n",
    "    return pairs"
   ]
  },
  {
   "cell_type": "code",
   "execution_count": 164,
   "metadata": {},
   "outputs": [],
   "source": [
    "\n",
    "def mutate_child(child_list):\n",
    "    \n",
    "    cells = child_list[0].size\n",
    "    mutate_count = math.floor(0.1 * cells)\n",
    "    for child in child_list:\n",
    "        counter = 0\n",
    "        while(counter!=mutate_count):\n",
    "            i = rand.randint(0,14)\n",
    "            j = rand.randint(0,14)\n",
    "            \n",
    "            # Addition of obstacle\n",
    "            if(child[i,j] == 1 and (i,j) != (1,1) and (i,j) != (14,13)): ##########change here####\n",
    "                child[i,j] = 0\n",
    "                counter = counter + 1\n",
    "            \n",
    "            # Deletion of obstacle\n",
    "            elif(child[i,j] == 0):\n",
    "                child[i,j] = 1\n",
    "                counter = counter + 1\n",
    "                \n",
    "    return child_list"
   ]
  },
  {
   "cell_type": "code",
   "execution_count": 165,
   "metadata": {},
   "outputs": [],
   "source": [
    "def generate_children(pairs, parents, alpha1, alpha2, crossover_method):\n",
    "  \n",
    "  children = []\n",
    "  \n",
    "  for pair in pairs:\n",
    "    \n",
    "    if crossover_method == \"two_point_crossover\":\n",
    "      child_1, child_2 = two_point_crossover((parents[pair[0]])[0],(parents[pair[1]])[0], alpha1, alpha2)\n",
    "    \n",
    "    elif crossover_method == \"single_point_crossover\":\n",
    "      child_1, child_2 = single_point_crossover((parents[pair[0]])[0],(parents[pair[1]])[0], alpha1)\n",
    "    \n",
    "    else:\n",
    "      child_1, child_2 = uniform_crossover((parents[pair[0]])[0],(parents[pair[1]])[0], alpha1)\n",
    "    \n",
    "    children.append(child_1)\n",
    "    children.append(child_2)\n",
    "    \n",
    "  mutated_children = mutate_child(children)\n",
    "  return mutated_children"
   ]
  },
  {
   "cell_type": "code",
   "execution_count": 166,
   "metadata": {},
   "outputs": [],
   "source": [
    "def selection(initial_population, population_size):\n",
    "\n",
    "    initial_population = sorted(initial_population, key = itemgetter(1))\n",
    "    n = len(initial_population)\n",
    "    sum = 1*(1.1**(n)-1)/0.1\n",
    "    \n",
    "    cdf = []\n",
    "    num = 0\n",
    "    for i in range(n):\n",
    "        num += 1.1**i\n",
    "        cdf.append(num/sum)\n",
    "    \n",
    "    \n",
    "    new_population = []\n",
    "    \n",
    "    for k in range(population_size):\n",
    "        while True:  \n",
    "            ra = rand.random()\n",
    "            i = 0\n",
    "            while(ra>cdf[i]):\n",
    "                i += 1\n",
    "            if i not in new_population:\n",
    "                new_population.append(i)\n",
    "                break\n",
    "    new_population.sort()\n",
    "    \n",
    "    population = []\n",
    "    \n",
    "    for i in new_population:\n",
    "      population.append(initial_population[i])\n",
    "      \n",
    "    return population"
   ]
  },
  {
   "cell_type": "code",
   "execution_count": 167,
   "metadata": {},
   "outputs": [],
   "source": [
    "def genetic_algo(population_size, dim, num_generations, num_parents, num_children, crossover_method):\n",
    "  \n",
    "  population_maze = generate_initial_population(population_size)\n",
    "  population = fitting_function(population_maze)         \n",
    "  population = sorted(population, key = itemgetter(1))\n",
    "  \n",
    "  count = 0\n",
    "  maze = population[len(population)-1][0]\n",
    "  og_fitness = population[len(population) - 1][1]\n",
    "  fitness_of_generation = [og_fitness]\n",
    "  \n",
    "  while count < num_generations:\n",
    "    \n",
    "    # Selection of parents from population\n",
    "    parents = select_parents(population, num_parents) \n",
    "    \n",
    "    # Generate pairs of parents for breeding\n",
    "    pairs = generate_pairs(num_children, parents)\n",
    "    \n",
    "    # Generate child from pairs of parents\n",
    "    child_list = generate_children(pairs, parents, 0.6, 0.2,crossover_method)\n",
    "    child_fitness = fitting_function(child_list)\n",
    "    population.extend(child_fitness)\n",
    "    \n",
    "    # Population pruning\n",
    "    population = selection(population, population_size)\n",
    "    population = sorted(population, key = itemgetter(1))\n",
    "    \n",
    "    fitness_of_hardest_maze = population[len(population) - 1][1]\n",
    "    \n",
    "    fitness_of_generation.append(fitness_of_hardest_maze)\n",
    "    count += 1\n",
    "    \n",
    "    # Terminating condition\n",
    "    if fitness_of_hardest_maze > 5*og_fitness:\n",
    "      break\n",
    "\n",
    "  return population[len(population)-1], fitness_of_generation"
   ]
  },
  {
   "cell_type": "code",
   "execution_count": 206,
   "metadata": {},
   "outputs": [],
   "source": [
    "def multiple_ga(dim,num_iterations, num_generations, num_parents, num_children, crossover_method):\n",
    "  \n",
    "  difference = []\n",
    "  max_fitness = []\n",
    "  original_fitness = []\n",
    "  hardest_maze = (mat,0)\n",
    "  \n",
    "  is_goal_reached, prev_list, count_of_nodes, max_fringe_size, visited = A_star(hardest_maze[0]*100, start, goal, \"manhattan\")\n",
    "  \n",
    "  maze_temp = hardest_maze[0]*100\n",
    "  hard_maze = hardest_maze\n",
    "  \n",
    "  for i in range(num_iterations):\n",
    "   \n",
    "    hard_maze, y = genetic_algo(population_size, dim, num_generations, num_parents, num_children, crossover_method)\n",
    "#     print(\"Cost of hardest maze at iteration \" + str(i) + \": \" + str(hard_maze[1])) ###COMMENTED THIS TOO###\n",
    "    if hard_maze[1] > hardest_maze[1]:\n",
    "      hardest_maze = hard_maze\n",
    "    max_fitness.append(y[len(y)-1])\n",
    "    original_fitness.append(y[0])\n",
    "    diff = ((y[len(y)-1]-y[0])/1)*100 ####CHANGED HERE Y[0] TO 1 as division by Zero error####\n",
    "    difference.append(diff)\n",
    "   \n",
    "#   print(\"Cost of final hardest maze is : \" + str(hardest_maze[1])) ####COMMENTED THIS TOO#####\n",
    "  return hardest_maze, difference"
   ]
  },
  {
   "cell_type": "code",
   "execution_count": 207,
   "metadata": {},
   "outputs": [],
   "source": [
    "def plot_difference(difference):\n",
    "  \n",
    "  x = np.arange(0,len(difference))\n",
    "  sns.set(style=\"whitegrid\", color_codes=True)\n",
    "  sns.barplot(x, difference)\n",
    "  plt.xlabel(\"Trial #\")\n",
    "  plt.ylabel(\"Cost difference\")\n",
    "  plt.title(\"Cost difference between initial and final generations for multiple trials\")"
   ]
  },
  {
   "cell_type": "code",
   "execution_count": 208,
   "metadata": {},
   "outputs": [],
   "source": [
    "population_size = 50\n",
    "num_generations = 100\n",
    "num_parents = 20\n",
    "num_children = 50\n",
    "dim = 30 #50\n",
    "num_of_iterations = 10 #20"
   ]
  },
  {
   "cell_type": "code",
   "execution_count": 209,
   "metadata": {},
   "outputs": [],
   "source": [
    "# hardest_maze, difference_list = multiple_ga(dim, num_of_iterations, num_generations, num_parents, num_children,0)\n"
   ]
  },
  {
   "cell_type": "code",
   "execution_count": 210,
   "metadata": {},
   "outputs": [],
   "source": [
    "population_size = 50\n",
    "num_generations = 100\n",
    "num_parents = 20\n",
    "num_children = 50\n",
    "dim = 50\n",
    "num_of_iterations = 10"
   ]
  },
  {
   "cell_type": "code",
   "execution_count": 211,
   "metadata": {},
   "outputs": [
    {
     "data": {
      "image/png": "[encoded data removed]",
      "text/plain": [
       "<Figure size 1080x1080 with 1 Axes>"
      ]
     },
     "metadata": {},
     "output_type": "display_data"
    },
    {
     "data": {
      "text/plain": [
       "45"
      ]
     },
     "execution_count": 211,
     "metadata": {},
     "output_type": "execute_result"
    }
   ],
   "source": [
    "hardest_maze_two_point, difference_list_two_point = multiple_ga(dim, num_of_iterations, num_generations, num_parents, num_children, \"two_point_crossover\")\n",
    "is_goal_reached, prev_list, count_of_nodes, max_fringe_size, visited = A_star(hardest_maze_two_point[0], start, goal, \"manhattan\")\n",
    "maze_temp = hardest_maze_two_point[0]*100\n",
    "display_path(maze_temp, prev_list, start, goal)"
   ]
  },
  {
   "cell_type": "code",
   "execution_count": 212,
   "metadata": {},
   "outputs": [
    {
     "data": {
      "image/png": "[encoded data removed]",
      "text/plain": [
       "<Figure size 1080x1080 with 1 Axes>"
      ]
     },
     "metadata": {},
     "output_type": "display_data"
    },
    {
     "data": {
      "text/plain": [
       "45"
      ]
     },
     "execution_count": 212,
     "metadata": {},
     "output_type": "execute_result"
    }
   ],
   "source": [
    "hardest_maze_uniform, difference_list_uniform = multiple_ga(dim, num_of_iterations, num_generations, num_parents, num_children, \"uniform_crossover\")\n",
    "is_goal_reached, prev_list, count_of_nodes, max_fringe_size, visited = A_star(hardest_maze_uniform[0], start, goal, \"manhattan\")\n",
    "maze_temp = hardest_maze_uniform[0]*100\n",
    "display_path(maze_temp, prev_list, start, goal)"
   ]
  },
  {
   "cell_type": "code",
   "execution_count": null,
   "metadata": {},
   "outputs": [],
   "source": []
  }
 ],
 "metadata": {
  "kernelspec": {
   "display_name": "Python 3",
   "language": "python",
   "name": "python3"
  },
  "language_info": {
   "codemirror_mode": {
    "name": "ipython",
    "version": 3
   },
   "file_extension": ".py",
   "mimetype": "text/x-python",
   "name": "python",
   "nbconvert_exporter": "python",
   "pygments_lexer": "ipython3",
   "version": "3.7.3"
  }
 },
 "nbformat": 4,
 "nbformat_minor": 2
}
